{
  "cells": [
    {
      "cell_type": "markdown",
      "metadata": {
        "id": "view-in-github",
        "colab_type": "text"
      },
      "source": [
        "<a href=\"https://colab.research.google.com/github/TheYoungBeast/Data-Augmentation-Keystrokes-Dynamics/blob/main/Data_Augmentation_Keystrokes_Dynamics.ipynb\" target=\"_parent\"><img src=\"https://colab.research.google.com/assets/colab-badge.svg\" alt=\"Open In Colab\"/></a>"
      ]
    },
    {
      "cell_type": "code",
      "execution_count": null,
      "metadata": {
        "colab": {
          "base_uri": "https://localhost:8080/"
        },
        "id": "iS9qIUysQ1jR",
        "outputId": "67303eba-305c-4690-b5ed-e74fd7b43394"
      },
      "outputs": [
        {
          "output_type": "stream",
          "name": "stdout",
          "text": [
            "2.8.2\n"
          ]
        }
      ],
      "source": [
        "import tensorflow as tf\n",
        "from tensorflow import keras\n",
        "\n",
        "print(tf.__version__)"
      ]
    },
    {
      "cell_type": "code",
      "source": [
        "import matplotlib.pyplot as plt\n",
        "import random as r\n",
        "import numpy as np\n",
        "from numpy import array\n",
        "import math\n",
        "import copy"
      ],
      "metadata": {
        "id": "Zk431gYRASbg"
      },
      "execution_count": null,
      "outputs": []
    },
    {
      "cell_type": "markdown",
      "metadata": {
        "id": "RKFU25dzbQOB"
      },
      "source": [
        "<h1>Data Types</h1>\n"
      ]
    },
    {
      "cell_type": "code",
      "execution_count": null,
      "metadata": {
        "id": "E4XG8mMmYVmA"
      },
      "outputs": [],
      "source": [
        "from typing import NamedTuple\n",
        "\n",
        "class Set(NamedTuple):\n",
        "  id: int\n",
        "  keystrokes: array = []\n",
        "  aug: bool = False\n",
        "\n",
        "class Keystroke(NamedTuple):\n",
        "  key: str\n",
        "  up: int\n",
        "  down: int\n",
        "\n",
        "  def dtime(self): # Dwell Time\n",
        "    return abs(self.up - self.down)"
      ]
    },
    {
      "cell_type": "markdown",
      "metadata": {
        "id": "yDaz99UKbVg5"
      },
      "source": [
        "<h1>Loading dataset</h1>"
      ]
    },
    {
      "cell_type": "code",
      "execution_count": null,
      "metadata": {
        "id": "m-H1GaSiSkLY"
      },
      "outputs": [],
      "source": [
        "Kdataset = {};\n",
        "\n",
        "def load_dataset(dataset):\n",
        "  for i in range(1, 15):\n",
        "    dataset[str(i)] = []\n",
        "\n",
        "    for j in range(0, 3):\n",
        "      filepath = \"drive/MyDrive/Keystrokes/#\" + str(i).zfill(2) + \"_\" + str(j)  +\".txt\"\n",
        "      dataset[str(i)].append(Set(i-1, []))\n",
        "\n",
        "      with open(filepath, 'r') as f:\n",
        "              line = f.readline()\n",
        "              while line:\n",
        "\n",
        "                if len(line.strip().split(',')) == 3:\n",
        "                  key, down, up = line.strip().split(',')\n",
        "                  keystroke = Keystroke(key, abs(int(up)), abs(int(down)))\n",
        "                  dataset[str(i)][-1].keystrokes.append(keystroke)\n",
        "\n",
        "                line = f.readline()\n",
        "\n",
        "load_dataset(Kdataset)"
      ]
    },
    {
      "cell_type": "code",
      "execution_count": null,
      "metadata": {
        "id": "A8fYTS8i4FS8"
      },
      "outputs": [],
      "source": [
        "def split_dataset(dataset):\n",
        "  \"\"\"\n",
        "  Splits dataset to training part and testing part.\n",
        "  The last sample in class is considered to test data.\n",
        "  \"\"\"\n",
        "  \n",
        "  train_dataset = {}\n",
        "  test_dataset = {}\n",
        "\n",
        "  for key in dataset:\n",
        "    train_dataset[key] = []\n",
        "    for index in range(len(dataset[key])-1):\n",
        "      train_dataset[key].append(dataset[key][index])\n",
        "\n",
        "    test_dataset[key] = []\n",
        "    test_dataset[key].append(dataset[key][-1]) # append the last set as training data for a given class\n",
        "  \n",
        "  return train_dataset, test_dataset"
      ]
    },
    {
      "cell_type": "code",
      "execution_count": null,
      "metadata": {
        "id": "XLivH5C-541z"
      },
      "outputs": [],
      "source": [
        "train_dataset, test_dataset = split_dataset(Kdataset)\n",
        "\n",
        "for key in train_dataset:\n",
        "  assert train_dataset[key] == Kdataset[key][0:2], \"Train dataset split corrupted\"\n",
        "\n",
        "for key in test_dataset:\n",
        "  assert test_dataset[key] == Kdataset[key][-1:], \"Test dataset split corrupted\""
      ]
    },
    {
      "cell_type": "markdown",
      "metadata": {
        "id": "ha3vj-ZcbHm9"
      },
      "source": [
        "<h1>Preprocessing and Normalization</h1>"
      ]
    },
    {
      "cell_type": "code",
      "execution_count": null,
      "metadata": {
        "id": "4RpNBKn55OgO"
      },
      "outputs": [],
      "source": [
        "def preprocess(set):\n",
        "  \"\"\"\n",
        "  set - single Keystroke set from Dataset\n",
        "  The result of the following procedure is a dictionary of unique Keys (Keystroke.Key)\n",
        "  which contains the average dwell time for a given key.\n",
        "  \"\"\"\n",
        "\n",
        "  array = []\n",
        "\n",
        "  for keystroke in set.keystrokes:\n",
        "    if keystroke.key:\n",
        "      array.append(keystroke.dtime())\n",
        "  \n",
        "  return array, set.id\n",
        "\n",
        "  dict = {}\n",
        "  count = {}\n",
        "\n",
        "  for keystroke in set.keystrokes:\n",
        "    if not keystroke.key:\n",
        "      continue\n",
        "\n",
        "    if keystroke.key not in dict:\n",
        "      dict[keystroke.key] = 0\n",
        "      count[keystroke.key] = 0\n",
        "\n",
        "    dict[keystroke.key] += keystroke.dtime() # Abs, dwell time\n",
        "    count[keystroke.key] += 1\n",
        "\n",
        "  # Average dwell time per Key\n",
        "  avgs = []\n",
        "  \n",
        "  for key in dict:\n",
        "    avgs.append(math.floor(dict[key]/count[key]))\n",
        "\n",
        "  if len(avgs) is not 27:\n",
        "    raise Exception('Dataset is corrupted', 'The number of unique keys in the set exceeds 27')\n",
        "\n",
        "  return avgs, set.id"
      ]
    },
    {
      "cell_type": "code",
      "execution_count": null,
      "metadata": {
        "id": "8_vjuHxE-PFD"
      },
      "outputs": [],
      "source": [
        "def normalize(data):\n",
        "  \"\"\"\n",
        "  Local (within set) normalization.\n",
        "  Finds max absolute dwell time in a given set,\n",
        "  then divides all data by that max value.\n",
        "  \"\"\"\n",
        "  \n",
        "  norm_data = []\n",
        "  max = np.max([abs(dtime) for dtime in data])\n",
        "\n",
        "  for i in range(len(data)):\n",
        "    norm_data.append(data[i] / max) # local normalization\n",
        "\n",
        "  return norm_data"
      ]
    },
    {
      "cell_type": "code",
      "execution_count": null,
      "metadata": {
        "id": "8BiPi7qCC28e"
      },
      "outputs": [],
      "source": [
        "def convert_dataset(dataset):\n",
        "  data = []\n",
        "  labels = []\n",
        "\n",
        "  for key in dataset:\n",
        "    for set in dataset[key]:\n",
        "      processed_data, sid = preprocess(set)\n",
        "\n",
        "      data.append(\n",
        "          normalize(processed_data) # normalization before appending\n",
        "      )\n",
        "      labels.append(sid) # append label\n",
        "  \n",
        "  return data, labels"
      ]
    },
    {
      "cell_type": "code",
      "execution_count": null,
      "metadata": {
        "id": "UPopetekDoUt"
      },
      "outputs": [],
      "source": [
        "train_data, train_labels = convert_dataset(train_dataset)\n",
        "test_data, test_labels = convert_dataset(test_dataset)\n",
        "\n",
        "assert len(test_data) == len(test_labels), 'The size of data is not equal'\n",
        "assert len(train_data) == len(train_labels), 'The size of data is not equal'"
      ]
    },
    {
      "cell_type": "markdown",
      "metadata": {
        "id": "pjv3d0MjHgGY"
      },
      "source": [
        "<h3>Example of the processed and normalized vector</h3>"
      ]
    },
    {
      "cell_type": "code",
      "execution_count": null,
      "metadata": {
        "colab": {
          "base_uri": "https://localhost:8080/"
        },
        "id": "TCnEIRtoHfRA",
        "outputId": "64a3efa1-8300-4a9b-f3a6-a181072e3ee3"
      },
      "outputs": [
        {
          "output_type": "stream",
          "name": "stdout",
          "text": [
            "[0.4460674157303371, 0.07528089887640449, 0.12247191011235956, 0.149438202247191, 0.748314606741573, 0.09550561797752809, 0.27415730337078653, 0.3651685393258427, 0.5651685393258427, 0.09887640449438202, 0.5438202247191011, 0.4651685393258427, 0.37191011235955057, 0.3921348314606742, 0.016853932584269662, 0.4247191011235955, 0.09775280898876404, 0.20898876404494382, 0.36404494382022473, 0.025842696629213482, 0.17640449438202246, 0.06179775280898876, 0.8056179775280898, 0.05955056179775281, 0.09213483146067415, 0.4337078651685393, 0.019101123595505618, 0.298876404494382, 0.1943820224719101, 0.006741573033707865, 0.9247191011235955, 0.46741573033707867, 0.9696629213483146, 0.17752808988764046, 0.451685393258427, 0.401123595505618, 0.4337078651685393, 0.15842696629213482, 0.20337078651685395, 0.23146067415730337, 0.16404494382022472, 0.7337078651685394, 0.16067415730337078, 0.02359550561797753, 0.6, 0.24157303370786518, 0.3044943820224719, 0.501123595505618, 0.1752808988764045, 0.20786516853932585, 0.2842696629213483, 0.6292134831460674, 0.4134831460674157, 0.6337078651685393, 0.18764044943820224, 0.7752808988764045, 0.3943820224719101, 0.8202247191011236, 0.2449438202247191, 0.2258426966292135, 0.250561797752809, 0.6247191011235955, 0.10449438202247191, 0.31348314606741573, 0.8247191011235955, 0.8460674157303371, 0.601123595505618, 0.7584269662921348, 0.6966292134831461, 0.6348314606741573, 0.14719101123595504, 0.3921348314606742, 0.03932584269662921, 0.3382022471910112, 0.05955056179775281, 0.8202247191011236, 0.5325842696629214, 0.07078651685393259, 0.9101123595505618, 0.45730337078651684, 0.07865168539325842, 0.40786516853932586, 0.4044943820224719, 0.27078651685393257, 0.6325842696629214, 0.3359550561797753, 0.20224719101123595, 0.11235955056179775, 0.3651685393258427, 0.10224719101123596, 0.8, 0.05393258426966292, 0.44719101123595506, 0.06404494382022471, 0.7876404494382022, 0.4842696629213483, 0.3101123595505618, 0.3775280898876405, 0.06629213483146068, 0.9292134831460674, 0.149438202247191, 0.2202247191011236, 0.31573033707865167, 0.27415730337078653, 0.30112359550561796, 0.1943820224719101, 0.27191011235955054, 0.6617977528089888, 0.34606741573033706, 0.21797752808988763, 0.4247191011235955, 0.40337078651685393, 0.950561797752809, 0.553932584269663, 0.07865168539325842, 0.14382022471910114, 0.35280898876404493, 0.350561797752809, 0.10786516853932585, 0.650561797752809, 0.11685393258426967, 0.20898876404494382, 0.23146067415730337, 0.250561797752809, 0.7, 0.40786516853932586, 0.15056179775280898, 0.1651685393258427, 0.13370786516853933, 0.27640449438202247, 0.2842696629213483, 0.23370786516853934, 0.1101123595505618, 0.42247191011235957, 0.24269662921348314, 0.6, 0.12696629213483146, 0.28314606741573034, 0.13370786516853933, 0.04719101123595506, 0.05056179775280899, 0.4730337078651685, 0.1146067415730337, 0.7842696629213484, 0.18202247191011237, 0.6932584269662921, 0.24831460674157305, 0.6404494382022472, 0.6764044943820224, 0.09438202247191012, 0.9404494382022472, 0.14606741573033707, 0.20337078651685395, 0.8325842696629213, 0.26292134831460673, 0.7325842696629213, 0.0853932584269663, 0.4044943820224719, 0.4067415730337079, 0.39775280898876403, 0.08202247191011236, 0.20224719101123595, 0.7674157303370787, 0.08764044943820225, 0.30337078651685395, 0.37640449438202245, 0.18651685393258427, 0.07865168539325842, 0.20224719101123595, 0.014606741573033709, 0.16404494382022472, 0.8910112359550562, 0.21235955056179776, 0.25617977528089886, 0.8775280898876404, 0.4640449438202247, 1.0, 0.1943820224719101, 0.2842696629213483, 0.3831460674157303, 0.006741573033707865, 0.4134831460674157, 0.3292134831460674, 0.251685393258427, 0.2157303370786517, 0.6584269662921348, 0.40224719101123596, 0.8280898876404494, 0.3382022471910112, 0.8865168539325843, 0.19101123595505617, 0.1550561797752809, 0.20224719101123595, 0.42696629213483145, 0.5089887640449439, 0.2449438202247191, 0.7348314606741573, 0.4460674157303371, 0.8921348314606742, 0.2696629213483146, 0.19325842696629214, 0.020224719101123594, 0.19775280898876405, 0.17415730337078653, 0.22359550561797753, 0.3101123595505618, 0.3449438202247191, 0.3808988764044944, 0.09662921348314607, 0.7943820224719101, 0.05056179775280899, 0.21460674157303372, 0.0449438202247191, 0.42247191011235957]\n"
          ]
        }
      ],
      "source": [
        "print(train_data[0])"
      ]
    },
    {
      "cell_type": "markdown",
      "metadata": {
        "id": "pSk5ZsP5bBjK"
      },
      "source": [
        "<h1>Neural Network Model</h1>"
      ]
    },
    {
      "cell_type": "code",
      "execution_count": null,
      "metadata": {
        "id": "KsftvV5K-_au"
      },
      "outputs": [],
      "source": [
        "class TrainingGuardCallback(keras.callbacks.Callback):\n",
        "\n",
        "  def on_train_batch_end(self, batch, logs=None):\n",
        "    pass\n",
        "\n",
        "  def on_epoch_end(self, epoch, logs={}):\n",
        "    if logs.get('accuracy') is not None:\n",
        "      if epoch > 200 or logs.get('accuracy') > 0.95:\n",
        "        self.model.stop_training = True\n",
        "        print(\"\\nTraining goals met. Training has been stopped!!\")   "
      ]
    },
    {
      "cell_type": "code",
      "execution_count": null,
      "metadata": {
        "id": "JhheeEqUbIk_"
      },
      "outputs": [],
      "source": [
        "class SaveBestModel(keras.callbacks.Callback):\n",
        "\n",
        "  def __init__(self, metric='accuracy'):\n",
        "    self.metric = metric\n",
        "    self.best = 0.0\n",
        "\n",
        "  def on_train_batch_end(self, batch, logs=None):\n",
        "    pass\n",
        "\n",
        "  def on_epoch_end(self, epoch, logs={}):\n",
        "    value = logs[self.metric]\n",
        "\n",
        "    if value:\n",
        "      if value > self.best and epoch > 20:\n",
        "        self.best = value\n",
        "        self.weights = self.model.get_weights()\n",
        "        self.logs = logs\n",
        "        #print(\"\\n\")\n",
        "        #print(\"Saving model weights. The best {} value detected so far ({:.2f}%)\".format(self.metric, value*100))"
      ]
    },
    {
      "cell_type": "code",
      "execution_count": null,
      "metadata": {
        "id": "mMqx2AF8Q_aC"
      },
      "outputs": [],
      "source": [
        "model = keras.Sequential()\n",
        "model.add(keras.layers.Flatten(input_shape = np.shape(train_data[0])))\n",
        "model.add(keras.layers.Dropout(0.2) ) # helps prevent overfitting\n",
        "model.add(keras.layers.Dense(1024, activation=keras.activations.relu)) # 1st hidden layer\n",
        "model.add(keras.layers.Dropout(0.5) ) # helps prevent overfitting\n",
        "model.add(keras.layers.Dense(2048, activation=keras.activations.relu)) # 2nd hidden layer\n",
        "model.add(keras.layers.Dense(14, activation=keras.activations.softmax)) # output layer"
      ]
    },
    {
      "cell_type": "code",
      "execution_count": null,
      "metadata": {
        "id": "I6BIhUVuRcbf"
      },
      "outputs": [],
      "source": [
        "model.compile(                                          # use adam optimizer\n",
        "    optimizer=tf.keras.optimizers.Adam(learning_rate=1e-4),\n",
        "    metrics=['accuracy'], \n",
        "    loss=keras.losses.SparseCategoricalCrossentropy()   # labels provided as integers, for one-hot vectors use keras.losses.CategoricalCrossentropy\n",
        "    )"
      ]
    },
    {
      "cell_type": "code",
      "execution_count": null,
      "metadata": {
        "id": "RJHw_9EqRfXY"
      },
      "outputs": [],
      "source": [
        "BestModelCallback = SaveBestModel(metric='val_accuracy') # callback, save weights when the model hits the best value for a given metric\n",
        "\n",
        "history = model.fit(train_data, train_labels, verbose=0, epochs=100, validation_data=(test_data, test_labels), callbacks=[BestModelCallback]) # train the model\n",
        "\n",
        "model.set_weights(BestModelCallback.weights) # load saved model weights"
      ]
    },
    {
      "cell_type": "code",
      "execution_count": null,
      "metadata": {
        "colab": {
          "base_uri": "https://localhost:8080/"
        },
        "id": "GK1J48VhRhSH",
        "outputId": "8e9e2e84-ba0a-4be3-b909-ef86257b808e"
      },
      "outputs": [
        {
          "output_type": "stream",
          "name": "stdout",
          "text": [
            "NN accuracy: 100.00% \t loss: 0.94640\n"
          ]
        }
      ],
      "source": [
        "print(\"NN accuracy: {:.2f}% \\t loss: {:.5f}\".format(BestModelCallback.logs['accuracy']*100, BestModelCallback.logs['loss']))"
      ]
    },
    {
      "cell_type": "code",
      "execution_count": null,
      "metadata": {
        "colab": {
          "base_uri": "https://localhost:8080/",
          "height": 295
        },
        "id": "dgW1CYlql21x",
        "outputId": "cf1d6d72-0c64-4063-ecbe-050a96d19efc"
      },
      "outputs": [
        {
          "output_type": "display_data",
          "data": {
            "text/plain": [
              "<Figure size 432x288 with 1 Axes>"
            ],
            "image/png": "[encoded data removed]"
          },
          "metadata": {
            "needs_background": "light"
          }
        }
      ],
      "source": [
        "thist = history.history\n",
        "plt.title(\"Training\")\n",
        "plt.plot([el * 100 for el in thist['accuracy']], label=\"model accuracy\")\n",
        "plt.plot([el * 100 for el in thist['val_accuracy']], label=\"validation accuracy\")\n",
        "plt.gca().set_yticklabels(['{:.0f}%'.format(x) for x in plt.gca().get_yticks()])\n",
        "plt.xlabel(\"No. Epoch\")\n",
        "plt.ylabel(\"Accuracy\")\n",
        "plt.grid(True)\n",
        "plt.legend()\n",
        "plt.show()"
      ]
    },
    {
      "cell_type": "markdown",
      "metadata": {
        "id": "78aIyq61u_Hq"
      },
      "source": [
        "<h1>Testing the model</h1>"
      ]
    },
    {
      "cell_type": "code",
      "execution_count": null,
      "metadata": {
        "colab": {
          "base_uri": "https://localhost:8080/"
        },
        "id": "1DooIXZeRsBl",
        "outputId": "cd8884db-357b-4f79-b5db-8d96dc5977bc"
      },
      "outputs": [
        {
          "output_type": "stream",
          "name": "stdout",
          "text": [
            "Model loss (test data): 2.125 \n",
            "Model accuracy (test data): 64.29%\n"
          ]
        }
      ],
      "source": [
        "loss, accuracy = model.evaluate(test_data, test_labels, verbose=0)\n",
        "print(\"Model loss (test data): {:.3f} \\nModel accuracy (test data): {:.2f}%\".format(loss, accuracy*100))"
      ]
    },
    {
      "cell_type": "markdown",
      "metadata": {
        "id": "rjri7reIz0f6"
      },
      "source": [
        "<h1>Data augmentation</h1>\n"
      ]
    },
    {
      "cell_type": "code",
      "source": [
        "class Augmenter():\n",
        "  def __init__(self):\n",
        "      pass\n",
        "\n",
        "  def set_keystroke_set(self, set):\n",
        "    self.set = copy.deepcopy(set)\n",
        "    self.set = self.set._replace(aug=True)\n",
        "\n",
        "    return self\n",
        "\n",
        "  def get_augmented_set(self):\n",
        "    return self.set\n",
        "\n",
        "  def avg_and_gauss(self, dataset, mu=5, sigma=5):\n",
        "\n",
        "    avgUp = np.zeros((len(self.set.keystrokes),)) # avg Up time for every keystroke in dataset\n",
        "    avgDown = np.zeros((len(self.set.keystrokes),)) # avg Down time for every keystroke in dataset\n",
        "\n",
        "    for kSet in dataset[str(self.set.id+1)]:\n",
        "      for i in range(len(kSet.keystrokes)):\n",
        "        avgUp[i] = avgUp[i] + kSet.keystrokes[i].up\n",
        "        avgDown[i] = avgDown[i] + kSet.keystrokes[i].down\n",
        "\n",
        "    assert len(avgUp) == len(avgDown)\n",
        "\n",
        "    no_of_sets = len(dataset[str(self.set.id+1)])\n",
        "    for i in range(len(avgUp)):\n",
        "      avgUp[i] = avgUp[i] / no_of_sets\n",
        "      avgDown[i] = avgDown[i] / no_of_sets\n",
        "\n",
        "    dst = np.random.normal(mu, sigma, len(avgUp))\n",
        "    \n",
        "    for i in range(len(self.set.keystrokes)):\n",
        "      self.set.keystrokes[i] = Keystroke(self.set.keystrokes[i].key, \n",
        "                                math.ceil(avgUp[i] + dst[i]),\n",
        "                                math.ceil(avgDown[i] + dst[i]))\n",
        "    \n",
        "    return self\n",
        "\n",
        "  def random_replace(self, rate=10):\n",
        "    \n",
        "    next = rate\n",
        "    for i in range(len(self.set.keystrokes)):\n",
        "      if i == next:\n",
        "        index = i - math.ceil(r.random() * next)\n",
        "        index = 0 if index < 0 else index\n",
        "        sub = self.set.keystrokes[index]\n",
        "\n",
        "        keystroke = Keystroke(self.set.keystrokes[i].key, sub.up, sub.down)\n",
        "        keystrokeSub = Keystroke(sub.key, self.set.keystrokes[i].up, self.set.keystrokes[i].down)\n",
        "\n",
        "        self.set.keystrokes[index] = keystrokeSub\n",
        "        self.set.keystrokes[i] = keystroke\n",
        "        \n",
        "        next += rate\n",
        "    \n",
        "    return self\n",
        "  \n",
        "  def random(self, max = 50, offset = 25):\n",
        "\n",
        "    for i in range(0, len(self.set.keystrokes)):\n",
        "      r1 = math.floor((r.random() * max) - offset)\n",
        "      r2 = math.floor((r.random() * max) - offset)\n",
        "\n",
        "      keystroke = Keystroke(self.set.keystrokes[i].key, \n",
        "                            abs(math.floor(self.set.keystrokes[i].up + r1)),\n",
        "                            abs(math.floor(self.set.keystrokes[i].down + r2)))\n",
        "      \n",
        "      self.set.keystrokes[i] = keystroke\n",
        "    \n",
        "    return self"
      ],
      "metadata": {
        "id": "Q3_k1l4pHkOa"
      },
      "execution_count": null,
      "outputs": []
    },
    {
      "cell_type": "markdown",
      "metadata": {
        "id": "1RAMDJ9IwIfM"
      },
      "source": [
        "<h1>Testing the result</h1>"
      ]
    },
    {
      "cell_type": "code",
      "source": [
        "class Benchmark():\n",
        "  def __init__(self, title, model, dataset, test_dataset, extended_dataset=None):\n",
        "    self.title = title\n",
        "    self.model_weights = model.get_weights()\n",
        "    self.results = {}\n",
        "    self.dataset = copy.deepcopy(dataset)\n",
        "    self.extended = extended_dataset\n",
        "\n",
        "    train_data, train_labels = convert_dataset(dataset)\n",
        "    self.test_data, self.test_labels = convert_dataset(test_dataset)\n",
        "    \n",
        "    loss, accuracy = model.evaluate(self.test_data, self.test_labels, verbose=0)\n",
        "    self.results[str(len(train_labels))] = accuracy * 100\n",
        "\n",
        "  def run(self, aug_method, metric='val_accuracy', cycles = 3, epochs=100, mu = 5, sigma = 5, rand_max = 50, rand_offset = 25):\n",
        "    avg_std = True\n",
        "    random = False\n",
        "    dataset_ext = self.dataset\n",
        "\n",
        "    if aug_method == 'avg_std':\n",
        "      pass\n",
        "    elif aug_method == 'avg_std_rand':\n",
        "      random = True\n",
        "    elif aug_method == 'random':\n",
        "      random = True\n",
        "      avg_std = False\n",
        "    elif 'avg_std_ext':\n",
        "      dataset_ext = self.extended\n",
        "    elif 'avg_std_rand_ext':\n",
        "      dataset_ext = self.extended\n",
        "      random = True\n",
        "    elif 'random_ext':\n",
        "      random=True\n",
        "      dataset_ext = self.extended\n",
        "    else:\n",
        "      raise Exception(\"Incorrect augmentation method\")\n",
        "\n",
        "    if dataset_ext is None:\n",
        "      raise Exception(\"The extended dataset is None\")\n",
        "\n",
        "    for i in range(cycles):\n",
        "      train_data, train_labels = self.__augment__(dataset_ext, mu, sigma, rand_max, rand_offset, avg_std, random)\n",
        "\n",
        "      model.set_weights(self.model_weights) # load defualt weights before every run\n",
        "\n",
        "      checkpoint = SaveBestModel(metric=metric)\n",
        "      model.fit(train_data, train_labels, verbose=0, epochs=epochs, shuffle=True, validation_data=(self.test_data, self.test_labels), callbacks=[checkpoint])\n",
        "      model.set_weights(checkpoint.weights)\n",
        "\n",
        "      loss, accuracy = model.evaluate(self.test_data, self.test_labels, verbose=0)\n",
        "      self.results[str(len(train_data))] = accuracy * 100\n",
        "\n",
        "    model.set_weights(self.model_weights) # set model previous weights after completing the benchmark\n",
        "    #return self\n",
        "\n",
        "  def get_title(self):\n",
        "    return self.title\n",
        "\n",
        "  def get_results(self):\n",
        "    return self.results\n",
        "\n",
        "  def __augment__(self, dataset_ext, mu, sigma, rand_max, rand_offset, avg_std=True, random=False):\n",
        "    for key in self.dataset:\n",
        "      if avg_std:\n",
        "        Aug = Augmenter().set_keystroke_set(self.dataset[key][0]).avg_and_gauss(dataset_ext, mu, sigma)\n",
        "\n",
        "        if random:\n",
        "          Aug.random(rand_max, rand_offset)\n",
        "\n",
        "        self.dataset[key].insert(0, Aug.get_augmented_set()) # prepend\n",
        "      else:\n",
        "        for i in range(len(dataset_ext[key])):\n",
        "          aug_set = Augmenter().set_keystroke_set(dataset_ext[key][i]).random().get_augmented_set()\n",
        "\n",
        "          self.dataset[key].insert(0, aug_set) # prepend\n",
        "      \n",
        "    train_data, train_labels = convert_dataset(self.dataset)\n",
        "\n",
        "    return train_data, train_labels"
      ],
      "metadata": {
        "id": "Pzsd8DiyyyEM"
      },
      "execution_count": null,
      "outputs": []
    },
    {
      "cell_type": "code",
      "source": [
        "benchmark1 = Benchmark(\"Avg-based Method with Gaussian noise (train data only)\", model, train_dataset, test_dataset)\n",
        "benchmark1.run(aug_method='avg_std', cycles=5)\n",
        "\n",
        "rand_max = 50; rand_offset=25\n",
        "benchmark2 = Benchmark(\"Avg-based Method with Gaussian noise and random [{}, {}] (train data only)\".format(0-rand_offset, rand_max-rand_offset), model, train_dataset, test_dataset)\n",
        "benchmark2.run(aug_method='avg_std_rand', rand_max=rand_max, rand_offset=rand_offset, cycles=5)\n",
        "\n",
        "rand_max = 100; rand_offset=50\n",
        "benchmark3 = Benchmark(\"Avg-based Method with Gaussian noise and random [{}, {}] (train data only)\".format(0-rand_offset, rand_max-rand_offset), model, train_dataset, test_dataset)\n",
        "benchmark3.run(aug_method='avg_std_rand', rand_max=rand_max, rand_offset=rand_offset, cycles=5)\n",
        "\n",
        "benchmark4 = Benchmark('Avg-based Method with Gaussian noise (test data included)',  model, train_dataset, test_dataset, Kdataset)\n",
        "benchmark4.run(aug_method='avg_std_ext', cycles=5)\n",
        "\n",
        "rand_max = 50; rand_offset=25\n",
        "benchmark5 = Benchmark('Avg-based Method with Gaussian noise and random [{}, {}] (test data included)'.format(0-rand_offset, rand_max-rand_offset), model, train_dataset, test_dataset, Kdataset)\n",
        "benchmark5.run(aug_method='avg_std_rand_ext', cycles=5)\n",
        "\n",
        "rand_max = 100; rand_offset=50\n",
        "benchmark6 = Benchmark('Avg-based Method with Gaussian noise and random [{}, {}] (test data included)'.format(0-rand_offset, rand_max-rand_offset), model, train_dataset, test_dataset, Kdataset)\n",
        "benchmark6.run(aug_method='random_ext', rand_max=rand_max, rand_offset=rand_offset, cycles=5)"
      ],
      "metadata": {
        "id": "IRbbdx_j78Fz"
      },
      "execution_count": null,
      "outputs": []
    },
    {
      "cell_type": "code",
      "execution_count": null,
      "metadata": {
        "id": "UGVgUprs_z0C"
      },
      "outputs": [],
      "source": [
        "def plot_bar(plt, title, stats): \n",
        "  plt.set_title(title)\n",
        "\n",
        "  for key in stats:\n",
        "    if stats[key] > stats[str(len(train_data))]: plt.bar(key, stats[key], color='lightgreen')\n",
        "    elif key != str(len(train_data)): color = plt.bar(key, stats[key], color='orange')\n",
        "    else: plt.bar(key, stats[key], color=[0.5, 0.5, 1, 1])\n",
        "\n",
        "  plt.bar([0], [0], color='lightgreen', label=\"Enchanced\")\n",
        "  plt.bar([0], [0], color='orange', label=\"Underperforming\")\n",
        "  plt.bar([0], [0], color=[0.5, 0.5, 1, 1], label=\"Base\")\n",
        "\n",
        "  plt.set_yticks(np.arange(0, 101, 10))\n",
        "  plt.set_yticklabels(['{:.0f}%'.format(x) for x in plt.get_yticks()])\n",
        "  plt.set_xlabel(\"Dataset Size (number of total sets)\")\n",
        "  plt.set_ylabel(\"Test Accuracy\")\n",
        "  plt.legend(loc='lower right')\n",
        "  plt.grid(color='black', linestyle='dashed', axis='y')"
      ]
    },
    {
      "cell_type": "code",
      "execution_count": null,
      "metadata": {
        "colab": {
          "base_uri": "https://localhost:8080/",
          "height": 739
        },
        "id": "YTXW0QvCM7d1",
        "outputId": "53a65967-049e-4a9f-e742-6fa722d93e06"
      },
      "outputs": [
        {
          "output_type": "display_data",
          "data": {
            "text/plain": [
              "<Figure size 1800x720 with 6 Axes>"
            ],
            "image/png": "[encoded data removed]"
          },
          "metadata": {
            "needs_background": "light"
          }
        }
      ],
      "source": [
        "fig, ax = plt.subplots(2, 3, constrained_layout = True)\n",
        "fig.set_figheight(10)\n",
        "fig.set_figwidth(25) \n",
        "\n",
        "plot_bar(ax[0, 0], benchmark1.get_title(), benchmark1.get_results())\n",
        "plot_bar(ax[0, 1], benchmark2.get_title(), benchmark2.get_results())\n",
        "plot_bar(ax[0, 2], benchmark3.get_title(), benchmark3.get_results())\n",
        "plot_bar(ax[1, 0], benchmark4.get_title(), benchmark4.get_results())\n",
        "plot_bar(ax[1, 1], benchmark5.get_title(), benchmark5.get_results())\n",
        "plot_bar(ax[1, 2], benchmark6.get_title(), benchmark6.get_results())\n",
        "\n",
        "fig.suptitle('Augmentation methods comparison', size=20)\n",
        "plt.show()"
      ]
    },
    {
      "cell_type": "markdown",
      "metadata": {
        "id": "WPk3sUdcasA1"
      },
      "source": [
        "<h1>Save augmented sets</h1>"
      ]
    },
    {
      "cell_type": "code",
      "execution_count": null,
      "metadata": {
        "id": "gmNErS0-IM_7"
      },
      "outputs": [],
      "source": [
        "import os\n",
        "\n",
        "def save_aug_sets(dataset, path, offset):\n",
        "  os.makedirs(path, exist_ok=True) # create dir if not exists\n",
        "\n",
        "  for key in dataset:\n",
        "    sampleid = offset\n",
        "\n",
        "    for set in dataset[key]:\n",
        "      if set.aug is not True:\n",
        "        continue\n",
        "\n",
        "      filepath = path + \"/#\" + str(set.id+1).zfill(2) + \"_\" + str(sampleid)  + \".txt\"\n",
        "      sampleid += 1\n",
        "      \n",
        "      with open(filepath, 'w') as f:\n",
        "\n",
        "        for k in set.keystrokes:\n",
        "          f.write(\"\\t{}, \\t{}, \\t{}\".format(k.key, k.down, k.up))\n",
        "          f.write('\\n')"
      ]
    },
    {
      "cell_type": "code",
      "execution_count": null,
      "metadata": {
        "id": "9soQFCsVKiHE"
      },
      "outputs": [],
      "source": [
        "#save_aug_sets(dataset, \"drive/MyDrive/Keystrokes/Augmented\", 3)"
      ]
    }
  ],
  "metadata": {
    "colab": {
      "provenance": [],
      "mount_file_id": "1Ka30FJh0QAnzPokn8tqtF0cfJb9a8Qbt",
      "authorship_tag": "ABX9TyMnI5GwLo4vFgiW6Oa2i8Q8",
      "include_colab_link": true
    },
    "kernelspec": {
      "display_name": "Python 3",
      "name": "python3"
    },
    "language_info": {
      "name": "python"
    },
    "accelerator": "GPU",
    "gpuClass": "standard"
  },
  "nbformat": 4,
  "nbformat_minor": 0
}