{
  "nbformat": 4,
  "nbformat_minor": 0,
  "metadata": {
    "colab": {
      "name": "Data Augmentation - Keystrokes Dynamics.ipynb",
      "provenance": [],
      "collapsed_sections": [],
      "mount_file_id": "1Ka30FJh0QAnzPokn8tqtF0cfJb9a8Qbt",
      "authorship_tag": "ABX9TyOdRhUPUreAwmSOcivoSyoS",
      "include_colab_link": true
    },
    "kernelspec": {
      "name": "python3",
      "display_name": "Python 3"
    },
    "language_info": {
      "name": "python"
    }
  },
  "cells": [
    {
      "cell_type": "markdown",
      "metadata": {
        "id": "view-in-github",
        "colab_type": "text"
      },
      "source": [
        "<a href=\"https://colab.research.google.com/github/TheYoungBeast/Data-Augmentation-Keystrokes-Dynamics/blob/main/Data_Augmentation_Keystrokes_Dynamics.ipynb\" target=\"_parent\"><img src=\"https://colab.research.google.com/assets/colab-badge.svg\" alt=\"Open In Colab\"/></a>"
      ]
    },
    {
      "cell_type": "code",
      "execution_count": 1,
      "metadata": {
        "colab": {
          "base_uri": "https://localhost:8080/"
        },
        "id": "iS9qIUysQ1jR",
        "outputId": "1b2cfff3-3935-474a-87fc-4a81d8df35f8"
      },
      "outputs": [
        {
          "output_type": "stream",
          "name": "stdout",
          "text": [
            "2.8.2\n"
          ]
        }
      ],
      "source": [
        "import tensorflow as tf\n",
        "from tensorflow import keras\n",
        "import numpy as np\n",
        "\n",
        "print(tf.__version__)"
      ]
    },
    {
      "cell_type": "code",
      "source": [
        "import math\n",
        "from numpy.ma.core import array"
      ],
      "metadata": {
        "id": "XFbsJeKD6jVX"
      },
      "execution_count": 2,
      "outputs": []
    },
    {
      "cell_type": "markdown",
      "source": [
        "<h1>Data Types</h1>\n"
      ],
      "metadata": {
        "id": "RKFU25dzbQOB"
      }
    },
    {
      "cell_type": "code",
      "source": [
        "from typing import NamedTuple\n",
        "\n",
        "class Set(NamedTuple):\n",
        "  id: int\n",
        "  keystrokes: array = []\n",
        "  aug: bool = False\n",
        "\n",
        "class Keystroke(NamedTuple):\n",
        "  key: str\n",
        "  up: int\n",
        "  down: int\n",
        "  dtime: int"
      ],
      "metadata": {
        "id": "E4XG8mMmYVmA"
      },
      "execution_count": 3,
      "outputs": []
    },
    {
      "cell_type": "markdown",
      "source": [
        "<h1>Loading dataset</h1>"
      ],
      "metadata": {
        "id": "yDaz99UKbVg5"
      }
    },
    {
      "cell_type": "code",
      "source": [
        "dataset = {};\n",
        "\n",
        "for i in range(1, 15):\n",
        "  dataset[str(i)] = []\n",
        "\n",
        "  for j in range(0, 3):\n",
        "    filepath = \"drive/MyDrive/Keystrokes/#\" + str(i).zfill(2) + \"_\" + str(j)  +\".txt\"\n",
        "    dataset[str(i)].append(Set(i-1, []))\n",
        "\n",
        "    with open(filepath, 'r') as f:\n",
        "            line = f.readline()\n",
        "            while line:\n",
        "\n",
        "              if len(line.strip().split(',')) == 3:\n",
        "                key, down, up = line.strip().split(',')\n",
        "                keystroke = Keystroke(key, abs(int(up)), abs(int(down)), abs(int(down) - int(up)))\n",
        "                dataset[str(i)][-1].keystrokes.append(keystroke)\n",
        "\n",
        "              line = f.readline()"
      ],
      "metadata": {
        "id": "m-H1GaSiSkLY"
      },
      "execution_count": 4,
      "outputs": []
    },
    {
      "cell_type": "markdown",
      "source": [
        "<h1>Preprocessing and Normalization</h1>"
      ],
      "metadata": {
        "id": "ha3vj-ZcbHm9"
      }
    },
    {
      "cell_type": "code",
      "source": [
        "def preprocess(set):\n",
        "  dict = {}\n",
        "  count = {}\n",
        "\n",
        "  for keystroke in set.keystrokes:\n",
        "    if not keystroke.key:\n",
        "      continue\n",
        "\n",
        "    if keystroke.key not in dict:\n",
        "      dict[keystroke.key] = 0\n",
        "      count[keystroke.key] = 0\n",
        "\n",
        "    dict[keystroke.key] += abs(keystroke.dtime) # Absolute value, dwell time\n",
        "    count[keystroke.key] += 1\n",
        "\n",
        "  # Average dwell time per Key\n",
        "  avgs = []\n",
        "  \n",
        "  for key in dict:\n",
        "    avgs.append(math.floor(dict[key]/count[key]))\n",
        "\n",
        "  if len(avgs) is not 27:\n",
        "    raise Exception('Dataset is corrupted', 'The number of unique keys in the set exceeds 27')\n",
        "\n",
        "  return avgs, set.id"
      ],
      "metadata": {
        "id": "4RpNBKn55OgO"
      },
      "execution_count": 5,
      "outputs": []
    },
    {
      "cell_type": "code",
      "source": [
        "def normalize(data):\n",
        "  norm_data = []\n",
        "  max = np.max(data)\n",
        "\n",
        "  for i in range(len(data)):\n",
        "    norm_data.append(data[i] / max) # local normalization\n",
        "\n",
        "  return norm_data"
      ],
      "metadata": {
        "id": "8_vjuHxE-PFD"
      },
      "execution_count": 6,
      "outputs": []
    },
    {
      "cell_type": "code",
      "source": [
        "def convert_all(dataset):\n",
        "  train_data = []\n",
        "  test_data = []\n",
        "  train_labels = []\n",
        "  test_labels = []\n",
        "\n",
        "  for key in dataset:\n",
        "    for i in range(0, len(dataset[key])-1): # skip last set\n",
        "      tdata, sid = preprocess(dataset[key][i])\n",
        "\n",
        "      train_data.append(normalize(tdata)) # normalization\n",
        "      train_labels.append(sid)\n",
        "    \n",
        "    tdata, sid = preprocess(dataset[key][-1]) # treat last set as test data\n",
        "    test_data.append(normalize(tdata)) # normalizaton\n",
        "    test_labels.append(sid)\n",
        "\n",
        "  return train_data, train_labels, test_data, test_labels"
      ],
      "metadata": {
        "id": "r7EOKCwH-RxL"
      },
      "execution_count": 7,
      "outputs": []
    },
    {
      "cell_type": "code",
      "source": [
        "train_data, train_labels, test_data, test_labels = convert_all(dataset)\n",
        "\n",
        "assert len(test_data) == len(test_labels), 'The size of data is not equal'\n",
        "assert len(train_data) == len(train_labels), 'The size of data is not equal'\n",
        "\n",
        "print(train_data[0])"
      ],
      "metadata": {
        "colab": {
          "base_uri": "https://localhost:8080/"
        },
        "id": "fcoy30OC3UGf",
        "outputId": "3a785528-b643-47e6-b1fe-e75b17251f74"
      },
      "execution_count": 8,
      "outputs": [
        {
          "output_type": "stream",
          "name": "stdout",
          "text": [
            "[0.30760095011876487, 0.23871733966745842, 0.29453681710213775, 0.38836104513064135, 0.47268408551068886, 0.35510688836104515, 0.3016627078384798, 0.34441805225653205, 0.3669833729216152, 0.45486935866983375, 0.48931116389548696, 0.23990498812351543, 0.5831353919239906, 0.40498812351543945, 0.2529691211401425, 0.3087885985748218, 0.38954869358669836, 0.47862232779097386, 0.4358669833729216, 0.27909738717339666, 0.3859857482185273, 0.19833729216152018, 0.7327790973871734, 0.9085510688836105, 0.9275534441805225, 1.0, 0.2850356294536817]\n"
          ]
        }
      ]
    },
    {
      "cell_type": "markdown",
      "source": [
        "<h1>Neural Network Model</h1>"
      ],
      "metadata": {
        "id": "pSk5ZsP5bBjK"
      }
    },
    {
      "cell_type": "code",
      "source": [
        "class TrainingGuardCallback(keras.callbacks.Callback):\n",
        "\n",
        "  def on_train_batch_end(self, batch, logs=None):\n",
        "    pass\n",
        "\n",
        "  def on_epoch_end(self, epoch, logs={}):\n",
        "    if logs.get('accuracy') is not None:\n",
        "      if epoch > 200 or logs.get('accuracy') > 0.95:\n",
        "        self.model.stop_training = True\n",
        "        print(\"\\nTraining goals met. Training has been stopped!!\")   "
      ],
      "metadata": {
        "id": "KsftvV5K-_au"
      },
      "execution_count": 9,
      "outputs": []
    },
    {
      "cell_type": "code",
      "source": [
        "model = keras.Sequential()\n",
        "model.add(keras.layers.Flatten(input_shape = np.shape(train_data[0])))\n",
        "model.add(keras.layers.Dropout(0.2))\n",
        "model.add(keras.layers.Dense(1024, activation=keras.activations.relu)) # 1st hidden layer\n",
        "model.add(keras.layers.Dropout(0.3) ) # helps prevent overfitting\n",
        "model.add(keras.layers.Dense(2048, activation=keras.activations.relu)) # 2nd hidden layer\n",
        "model.add(keras.layers.Dense(14, activation=keras.activations.softmax)) # output layer"
      ],
      "metadata": {
        "id": "mMqx2AF8Q_aC"
      },
      "execution_count": 10,
      "outputs": []
    },
    {
      "cell_type": "code",
      "source": [
        "model.compile(                                          # use adam optimizer\n",
        "    optimizer=tf.keras.optimizers.Adam(learning_rate=1e-3),\n",
        "    metrics=['accuracy'], \n",
        "    loss=keras.losses.SparseCategoricalCrossentropy()   # labels provided as integers, for one-hot vectors use keras.losses.CategoricalCrossentropy\n",
        "    )"
      ],
      "metadata": {
        "id": "I6BIhUVuRcbf"
      },
      "execution_count": 11,
      "outputs": []
    },
    {
      "cell_type": "code",
      "source": [
        "history = model.fit(train_data, train_labels, verbose=1, epochs=999, callbacks=[TrainingGuardCallback()]) # train the model"
      ],
      "metadata": {
        "id": "RJHw_9EqRfXY"
      },
      "execution_count": null,
      "outputs": []
    },
    {
      "cell_type": "code",
      "source": [
        "print(\"NN accuracy: {:.2f}% \\t loss: {:.5f}\".format(history.history['accuracy'][-1]*100, history.history['loss'][-1]))"
      ],
      "metadata": {
        "colab": {
          "base_uri": "https://localhost:8080/"
        },
        "id": "GK1J48VhRhSH",
        "outputId": "2961efbd-2df3-4f80-a834-4a79e15c5761"
      },
      "execution_count": 13,
      "outputs": [
        {
          "output_type": "stream",
          "name": "stdout",
          "text": [
            "NN accuracy: 96.43% \t loss: 0.42896\n"
          ]
        }
      ]
    },
    {
      "cell_type": "markdown",
      "source": [
        "<h1>Testing the model</h1>"
      ],
      "metadata": {
        "id": "W1kI05KpRmVA"
      }
    },
    {
      "cell_type": "code",
      "source": [
        "loss, accuracy = model.evaluate(test_data, test_labels, verbose=0)\n",
        "print(\"Model loss (test data): {:.3f} \\t Model accuracy (test data): {:.2f}%\".format(loss, accuracy*100))"
      ],
      "metadata": {
        "id": "1DooIXZeRsBl",
        "colab": {
          "base_uri": "https://localhost:8080/"
        },
        "outputId": "302f01ab-08a9-4d74-b76b-3a91d9b32f59"
      },
      "execution_count": 14,
      "outputs": [
        {
          "output_type": "stream",
          "name": "stdout",
          "text": [
            "Model loss (test data): 1.805 \t Model accuracy (test data): 35.71%\n"
          ]
        }
      ]
    },
    {
      "cell_type": "markdown",
      "source": [
        "<h1>Data augmentation</h1>\n"
      ],
      "metadata": {
        "id": "rjri7reIz0f6"
      }
    },
    {
      "cell_type": "code",
      "source": [
        "import random as r\n",
        "\n",
        "def data_augmentation(set, **kwargs):\n",
        "  aug_set = Set(set.id, [], True)\n",
        "  valid = False\n",
        "\n",
        "  # random Method\n",
        "  if 'random' in kwargs:\n",
        "    valid = True\n",
        "    for i in range(0, len(set.keystrokes)):\n",
        "      r1 = math.floor((r.random() * 100) - 50)\n",
        "      r2 = math.floor((r.random() * 100) - 50)\n",
        "      keystroke = Keystroke(set.keystrokes[i].key, \n",
        "                            math.floor(set.keystrokes[i].up + r1),#dst[i]),\n",
        "                            math.floor(set.keystrokes[i].down + r2),# dst[i]),\n",
        "                            math.floor(set.keystrokes[i].down + r2) - math.floor(set.keystrokes[i].up + r1))#dst[i]) - math.floor(set.keystrokes[i].up + dst[i]))\n",
        "      \n",
        "      aug_set.keystrokes.append(keystroke)\n",
        "\n",
        "  # Gaussian dst Method\n",
        "  if 'gaussian_rand' in kwargs:\n",
        "    valid = True\n",
        "    if 'mu' not in kwargs:\n",
        "        mu = 25 # mean\n",
        "    if 'sigma' not in kwargs:\n",
        "        sigma = 50; # standard deviation\n",
        "\n",
        "    dst = np.random.normal(mu, sigma, len(set.keystrokes))\n",
        "\n",
        "    for i in range(0, len(set.keystrokes)):\n",
        "      keystroke = Keystroke(set.keystrokes[i].key, \n",
        "                            math.floor(set.keystrokes[i].up + dst[i]),\n",
        "                            math.floor(set.keystrokes[i].down + dst[i]),\n",
        "                            math.floor(set.keystrokes[i].down + dst[i]) - math.floor(set.keystrokes[i].up + dst[i]))\n",
        "      \n",
        "      aug_set.keystrokes.append(keystroke)\n",
        "\n",
        "  # Replace random samples Method\n",
        "  if 'random_replace' in kwargs:\n",
        "    valid = True\n",
        "\n",
        "    if 'replace_rate' not in kwargs:\n",
        "      rate = 10\n",
        "\n",
        "    next = rate\n",
        "    for i in range(len(set.keystrokes)):\n",
        "      if i == next:\n",
        "        index = i - math.ceil(r.random() * next)\n",
        "        index = 0 if index < 0 else index\n",
        "        sub = aug_set.keystrokes[index]\n",
        "\n",
        "        keystroke = Keystroke(set.keystrokes[i].key, sub.up, sub.down, sub.dtime)\n",
        "        keystrokeSub = Keystroke(sub.key, set.keystrokes[i].up, set.keystrokes[i].down, set.keystrokes[i].dtime)\n",
        "\n",
        "        aug_set.keystrokes[index] = keystrokeSub\n",
        "        aug_set.keystrokes.append(keystroke)\n",
        "        \n",
        "        next += rate\n",
        "      else:\n",
        "        aug_set.keystrokes.append(set.keystrokes[i])\n",
        "\n",
        "  # Generated new values based on average value per sample, add stdev\n",
        "  if 'average_gen' in kwargs:\n",
        "    valid = True\n",
        "\n",
        "    if 'dataset' not in kwargs:\n",
        "      raise Exception('No dataset was provided for the average based generation method')\n",
        "\n",
        "    dataset = kwargs['dataset']\n",
        "    avgUp = np.zeros((len(set.keystrokes),))\n",
        "    avgDown = np.zeros((len(set.keystrokes),))\n",
        "\n",
        "    for kSet in dataset[str(set.id+1)]:\n",
        "      for i in range(len(kSet.keystrokes)):\n",
        "        avgUp[i] = avgUp[i] + kSet.keystrokes[i].up\n",
        "        avgDown[i] = avgDown[i] + kSet.keystrokes[i].down\n",
        "\n",
        "    assert len(avgUp) == len(avgDown)\n",
        "\n",
        "    datasets_no = len(dataset[str(set.id+1)])\n",
        "    for i in range(len(avgUp)):\n",
        "      avgUp[i] = math.floor(avgUp[i] / datasets_no)\n",
        "      avgDown[i] = math.floor(avgDown[i] / datasets_no)\n",
        "\n",
        "    dst = np.random.normal(5, 5, len(avgUp))\n",
        "    \n",
        "    for i in range(len(set.keystrokes)):\n",
        "      aug_set.keystrokes.append(Keystroke(set.keystrokes[i].key, \n",
        "                                math.floor(avgUp[i] + dst[i]),\n",
        "                                math.floor(avgDown[i] + dst[i]),\n",
        "                                math.floor(abs((avgDown[i] + dst[i]) - (avgUp[i] + dst[i])))))\n",
        "\n",
        "  # None of the above was specified\n",
        "  if valid is False:\n",
        "    raise Exception('Augmentation method not chosen')\n",
        "\n",
        "  return aug_set"
      ],
      "metadata": {
        "id": "rFuPDqq-z5cc"
      },
      "execution_count": 15,
      "outputs": []
    },
    {
      "cell_type": "code",
      "source": [
        "\n",
        "for key in dataset:\n",
        "  for i in range(len(dataset[key])):\n",
        "    #aug = data_augmentation(dataset[key][i], random=True, gaussian_rand=True, random_replace=True)\n",
        "    aug = data_augmentation(dataset[key][i], average_gen=True, dataset=dataset)\n",
        "    dataset[key].insert(0, aug) # prepend\n",
        "  \n",
        "tdata, tlabels, testd, testl = convert_all(dataset)\n",
        "\n",
        "#tdata += test_data\n",
        "#tlabels += test_labels\n",
        "\n",
        "print('Augmented dataset size: ', len(tdata))\n",
        "assert len(tlabels) == len(tdata), 'Dataset corrupted'\n",
        "\n",
        "print(\"format: \", testd[0])"
      ],
      "metadata": {
        "id": "OvWAsoav2rDo",
        "colab": {
          "base_uri": "https://localhost:8080/"
        },
        "outputId": "f72ef157-374e-4362-d20f-8dd75e4ecf5b"
      },
      "execution_count": 16,
      "outputs": [
        {
          "output_type": "stream",
          "name": "stdout",
          "text": [
            "Augmented dataset size:  70\n",
            "format:  [0.42596810933940776, 0.21981776765375854, 0.49430523917995445, 0.2517084282460137, 0.31890660592255127, 0.3211845102505695, 0.1252847380410023, 0.7164009111617312, 0.40774487471526194, 0.4202733485193622, 0.30751708428246016, 0.23690205011389523, 0.23234624145785876, 0.5091116173120729, 0.31662870159453305, 0.7198177676537585, 0.2984054669703872, 0.3678815489749431, 0.30751708428246016, 0.5216400911161732, 0.10933940774487472, 0.36332574031890663, 0.47038724373576307, 0.7323462414578588, 0.06719817767653759, 1.0, 0.1947608200455581]\n"
          ]
        }
      ]
    },
    {
      "cell_type": "markdown",
      "source": [
        "<h1>Retrain the model with augmented data</h1>\n"
      ],
      "metadata": {
        "id": "dA655ewmaSWn"
      }
    },
    {
      "cell_type": "code",
      "source": [
        "model.fit(tdata, tlabels, verbose=1, epochs=999, shuffle=True, callbacks=[TrainingGuardCallback()])"
      ],
      "metadata": {
        "id": "VA3LE1c57_ci",
        "colab": {
          "base_uri": "https://localhost:8080/"
        },
        "outputId": "f0ca920b-2bbf-48ce-d06e-ba00798570a8"
      },
      "execution_count": 17,
      "outputs": [
        {
          "output_type": "stream",
          "name": "stdout",
          "text": [
            "Epoch 1/999\n",
            "3/3 [==============================] - 0s 45ms/step - loss: 0.9804 - accuracy: 0.7143\n",
            "Epoch 2/999\n",
            "3/3 [==============================] - 0s 37ms/step - loss: 1.1059 - accuracy: 0.6714\n",
            "Epoch 3/999\n",
            "3/3 [==============================] - 0s 39ms/step - loss: 0.9874 - accuracy: 0.6429\n",
            "Epoch 4/999\n",
            "3/3 [==============================] - 0s 40ms/step - loss: 0.9475 - accuracy: 0.6857\n",
            "Epoch 5/999\n",
            "3/3 [==============================] - 0s 42ms/step - loss: 1.1789 - accuracy: 0.6286\n",
            "Epoch 6/999\n",
            "3/3 [==============================] - 0s 38ms/step - loss: 1.0454 - accuracy: 0.6429\n",
            "Epoch 7/999\n",
            "3/3 [==============================] - 0s 40ms/step - loss: 1.1837 - accuracy: 0.6571\n",
            "Epoch 8/999\n",
            "3/3 [==============================] - 0s 36ms/step - loss: 1.2108 - accuracy: 0.5714\n",
            "Epoch 9/999\n",
            "3/3 [==============================] - 0s 37ms/step - loss: 1.0493 - accuracy: 0.6286\n",
            "Epoch 10/999\n",
            "3/3 [==============================] - 0s 35ms/step - loss: 1.0366 - accuracy: 0.6857\n",
            "Epoch 11/999\n",
            "3/3 [==============================] - 0s 39ms/step - loss: 1.0087 - accuracy: 0.6429\n",
            "Epoch 12/999\n",
            "3/3 [==============================] - 0s 43ms/step - loss: 1.0275 - accuracy: 0.6857\n",
            "Epoch 13/999\n",
            "3/3 [==============================] - 0s 37ms/step - loss: 0.8866 - accuracy: 0.7571\n",
            "Epoch 14/999\n",
            "3/3 [==============================] - 0s 36ms/step - loss: 1.0352 - accuracy: 0.6143\n",
            "Epoch 15/999\n",
            "3/3 [==============================] - 0s 36ms/step - loss: 1.1544 - accuracy: 0.5714\n",
            "Epoch 16/999\n",
            "3/3 [==============================] - 0s 40ms/step - loss: 0.9794 - accuracy: 0.7286\n",
            "Epoch 17/999\n",
            "3/3 [==============================] - 0s 35ms/step - loss: 0.8928 - accuracy: 0.6714\n",
            "Epoch 18/999\n",
            "3/3 [==============================] - 0s 44ms/step - loss: 0.8320 - accuracy: 0.7286\n",
            "Epoch 19/999\n",
            "3/3 [==============================] - 0s 36ms/step - loss: 0.8783 - accuracy: 0.6286\n",
            "Epoch 20/999\n",
            "3/3 [==============================] - 0s 35ms/step - loss: 0.7330 - accuracy: 0.7429\n",
            "Epoch 21/999\n",
            "3/3 [==============================] - 0s 34ms/step - loss: 0.9371 - accuracy: 0.6571\n",
            "Epoch 22/999\n",
            "3/3 [==============================] - 0s 37ms/step - loss: 0.7610 - accuracy: 0.7286\n",
            "Epoch 23/999\n",
            "3/3 [==============================] - 0s 38ms/step - loss: 1.0755 - accuracy: 0.6571\n",
            "Epoch 24/999\n",
            "3/3 [==============================] - 0s 44ms/step - loss: 0.7988 - accuracy: 0.7429\n",
            "Epoch 25/999\n",
            "3/3 [==============================] - 0s 36ms/step - loss: 0.8906 - accuracy: 0.7429\n",
            "Epoch 26/999\n",
            "3/3 [==============================] - 0s 40ms/step - loss: 0.8912 - accuracy: 0.6857\n",
            "Epoch 27/999\n",
            "3/3 [==============================] - 0s 35ms/step - loss: 0.8773 - accuracy: 0.7286\n",
            "Epoch 28/999\n",
            "3/3 [==============================] - 0s 39ms/step - loss: 1.1781 - accuracy: 0.6143\n",
            "Epoch 29/999\n",
            "3/3 [==============================] - 0s 35ms/step - loss: 0.7736 - accuracy: 0.7857\n",
            "Epoch 30/999\n",
            "3/3 [==============================] - 0s 38ms/step - loss: 0.7776 - accuracy: 0.7857\n",
            "Epoch 31/999\n",
            "3/3 [==============================] - 0s 35ms/step - loss: 0.8406 - accuracy: 0.7571\n",
            "Epoch 32/999\n",
            "3/3 [==============================] - 0s 53ms/step - loss: 0.7925 - accuracy: 0.6571\n",
            "Epoch 33/999\n",
            "3/3 [==============================] - 0s 63ms/step - loss: 1.0090 - accuracy: 0.6571\n",
            "Epoch 34/999\n",
            "3/3 [==============================] - 0s 50ms/step - loss: 1.0416 - accuracy: 0.6429\n",
            "Epoch 35/999\n",
            "3/3 [==============================] - 0s 49ms/step - loss: 0.6992 - accuracy: 0.7429\n",
            "Epoch 36/999\n",
            "3/3 [==============================] - 0s 72ms/step - loss: 0.9145 - accuracy: 0.6571\n",
            "Epoch 37/999\n",
            "3/3 [==============================] - 0s 55ms/step - loss: 0.7129 - accuracy: 0.8000\n",
            "Epoch 38/999\n",
            "3/3 [==============================] - 0s 64ms/step - loss: 0.8170 - accuracy: 0.7429\n",
            "Epoch 39/999\n",
            "3/3 [==============================] - 0s 53ms/step - loss: 0.7471 - accuracy: 0.7857\n",
            "Epoch 40/999\n",
            "3/3 [==============================] - 0s 38ms/step - loss: 0.8041 - accuracy: 0.8143\n",
            "Epoch 41/999\n",
            "3/3 [==============================] - 0s 35ms/step - loss: 0.8061 - accuracy: 0.8000\n",
            "Epoch 42/999\n",
            "3/3 [==============================] - 0s 38ms/step - loss: 0.6887 - accuracy: 0.7714\n",
            "Epoch 43/999\n",
            "3/3 [==============================] - 0s 35ms/step - loss: 0.9323 - accuracy: 0.7000\n",
            "Epoch 44/999\n",
            "3/3 [==============================] - 0s 39ms/step - loss: 0.7637 - accuracy: 0.7429\n",
            "Epoch 45/999\n",
            "3/3 [==============================] - 0s 36ms/step - loss: 0.7162 - accuracy: 0.7857\n",
            "Epoch 46/999\n",
            "3/3 [==============================] - 0s 35ms/step - loss: 0.8726 - accuracy: 0.7429\n",
            "Epoch 47/999\n",
            "3/3 [==============================] - 0s 35ms/step - loss: 0.9254 - accuracy: 0.7143\n",
            "Epoch 48/999\n",
            "3/3 [==============================] - 0s 39ms/step - loss: 0.6279 - accuracy: 0.8143\n",
            "Epoch 49/999\n",
            "3/3 [==============================] - 0s 40ms/step - loss: 0.8073 - accuracy: 0.7143\n",
            "Epoch 50/999\n",
            "3/3 [==============================] - 0s 40ms/step - loss: 0.6651 - accuracy: 0.7714\n",
            "Epoch 51/999\n",
            "3/3 [==============================] - 0s 37ms/step - loss: 0.5488 - accuracy: 0.8714\n",
            "Epoch 52/999\n",
            "3/3 [==============================] - 0s 37ms/step - loss: 0.5869 - accuracy: 0.8429\n",
            "Epoch 53/999\n",
            "3/3 [==============================] - 0s 38ms/step - loss: 0.6007 - accuracy: 0.8000\n",
            "Epoch 54/999\n",
            "3/3 [==============================] - 0s 37ms/step - loss: 1.0043 - accuracy: 0.7143\n",
            "Epoch 55/999\n",
            "3/3 [==============================] - 0s 41ms/step - loss: 0.8870 - accuracy: 0.6857\n",
            "Epoch 56/999\n",
            "3/3 [==============================] - 0s 37ms/step - loss: 0.7425 - accuracy: 0.7286\n",
            "Epoch 57/999\n",
            "3/3 [==============================] - 0s 37ms/step - loss: 0.5567 - accuracy: 0.7857\n",
            "Epoch 58/999\n",
            "3/3 [==============================] - 0s 38ms/step - loss: 0.6457 - accuracy: 0.7571\n",
            "Epoch 59/999\n",
            "3/3 [==============================] - 0s 39ms/step - loss: 0.7449 - accuracy: 0.7571\n",
            "Epoch 60/999\n",
            "3/3 [==============================] - 0s 37ms/step - loss: 0.7907 - accuracy: 0.7143\n",
            "Epoch 61/999\n",
            "3/3 [==============================] - 0s 44ms/step - loss: 0.8183 - accuracy: 0.7000\n",
            "Epoch 62/999\n",
            "3/3 [==============================] - 0s 34ms/step - loss: 0.7893 - accuracy: 0.7429\n",
            "Epoch 63/999\n",
            "3/3 [==============================] - 0s 36ms/step - loss: 0.9181 - accuracy: 0.7000\n",
            "Epoch 64/999\n",
            "3/3 [==============================] - 0s 38ms/step - loss: 0.8436 - accuracy: 0.7286\n",
            "Epoch 65/999\n",
            "3/3 [==============================] - 0s 40ms/step - loss: 0.6111 - accuracy: 0.7857\n",
            "Epoch 66/999\n",
            "3/3 [==============================] - 0s 43ms/step - loss: 0.7718 - accuracy: 0.7429\n",
            "Epoch 67/999\n",
            "3/3 [==============================] - 0s 38ms/step - loss: 0.6455 - accuracy: 0.8571\n",
            "Epoch 68/999\n",
            "3/3 [==============================] - 0s 37ms/step - loss: 0.7248 - accuracy: 0.7714\n",
            "Epoch 69/999\n",
            "3/3 [==============================] - 0s 42ms/step - loss: 0.5967 - accuracy: 0.8000\n",
            "Epoch 70/999\n",
            "3/3 [==============================] - 0s 40ms/step - loss: 0.7287 - accuracy: 0.7571\n",
            "Epoch 71/999\n",
            "3/3 [==============================] - 0s 37ms/step - loss: 0.8698 - accuracy: 0.6714\n",
            "Epoch 72/999\n",
            "3/3 [==============================] - 0s 39ms/step - loss: 0.6134 - accuracy: 0.8286\n",
            "Epoch 73/999\n",
            "3/3 [==============================] - 0s 35ms/step - loss: 0.6172 - accuracy: 0.8000\n",
            "Epoch 74/999\n",
            "3/3 [==============================] - 0s 41ms/step - loss: 0.6003 - accuracy: 0.8286\n",
            "Epoch 75/999\n",
            "3/3 [==============================] - 0s 39ms/step - loss: 0.6899 - accuracy: 0.7857\n",
            "Epoch 76/999\n",
            "3/3 [==============================] - 0s 38ms/step - loss: 1.0311 - accuracy: 0.6714\n",
            "Epoch 77/999\n",
            "3/3 [==============================] - 0s 40ms/step - loss: 0.6410 - accuracy: 0.8000\n",
            "Epoch 78/999\n",
            "3/3 [==============================] - 0s 37ms/step - loss: 0.6646 - accuracy: 0.8000\n",
            "Epoch 79/999\n",
            "3/3 [==============================] - 0s 37ms/step - loss: 0.8108 - accuracy: 0.7714\n",
            "Epoch 80/999\n",
            "3/3 [==============================] - 0s 40ms/step - loss: 0.8247 - accuracy: 0.7143\n",
            "Epoch 81/999\n",
            "3/3 [==============================] - 0s 37ms/step - loss: 0.7510 - accuracy: 0.7143\n",
            "Epoch 82/999\n",
            "3/3 [==============================] - 0s 36ms/step - loss: 0.6653 - accuracy: 0.7571\n",
            "Epoch 83/999\n",
            "3/3 [==============================] - 0s 40ms/step - loss: 0.6924 - accuracy: 0.7714\n",
            "Epoch 84/999\n",
            "3/3 [==============================] - 0s 36ms/step - loss: 1.0430 - accuracy: 0.6571\n",
            "Epoch 85/999\n",
            "3/3 [==============================] - 0s 36ms/step - loss: 0.7507 - accuracy: 0.7714\n",
            "Epoch 86/999\n",
            "3/3 [==============================] - 0s 36ms/step - loss: 0.7863 - accuracy: 0.7143\n",
            "Epoch 87/999\n",
            "3/3 [==============================] - 0s 37ms/step - loss: 0.7036 - accuracy: 0.7286\n",
            "Epoch 88/999\n",
            "3/3 [==============================] - 0s 36ms/step - loss: 0.7319 - accuracy: 0.7286\n",
            "Epoch 89/999\n",
            "3/3 [==============================] - 0s 38ms/step - loss: 0.9275 - accuracy: 0.7429\n",
            "Epoch 90/999\n",
            "3/3 [==============================] - 0s 36ms/step - loss: 0.8357 - accuracy: 0.7000\n",
            "Epoch 91/999\n",
            "3/3 [==============================] - 0s 35ms/step - loss: 0.7579 - accuracy: 0.6857\n",
            "Epoch 92/999\n",
            "3/3 [==============================] - 0s 37ms/step - loss: 0.7651 - accuracy: 0.7143\n",
            "Epoch 93/999\n",
            "3/3 [==============================] - 0s 42ms/step - loss: 0.7328 - accuracy: 0.7429\n",
            "Epoch 94/999\n",
            "3/3 [==============================] - 0s 38ms/step - loss: 0.6602 - accuracy: 0.7571\n",
            "Epoch 95/999\n",
            "3/3 [==============================] - 0s 42ms/step - loss: 0.7596 - accuracy: 0.7714\n",
            "Epoch 96/999\n",
            "3/3 [==============================] - 0s 36ms/step - loss: 0.5833 - accuracy: 0.7571\n",
            "Epoch 97/999\n",
            "3/3 [==============================] - 0s 40ms/step - loss: 0.6838 - accuracy: 0.7143\n",
            "Epoch 98/999\n",
            "3/3 [==============================] - 0s 38ms/step - loss: 0.5375 - accuracy: 0.7857\n",
            "Epoch 99/999\n",
            "3/3 [==============================] - 0s 36ms/step - loss: 0.8055 - accuracy: 0.7286\n",
            "Epoch 100/999\n",
            "3/3 [==============================] - 0s 37ms/step - loss: 0.6402 - accuracy: 0.7714\n",
            "Epoch 101/999\n",
            "3/3 [==============================] - 0s 39ms/step - loss: 0.7119 - accuracy: 0.7429\n",
            "Epoch 102/999\n",
            "3/3 [==============================] - 0s 38ms/step - loss: 0.5900 - accuracy: 0.8143\n",
            "Epoch 103/999\n",
            "3/3 [==============================] - 0s 37ms/step - loss: 0.6743 - accuracy: 0.7857\n",
            "Epoch 104/999\n",
            "3/3 [==============================] - 0s 41ms/step - loss: 0.5827 - accuracy: 0.8429\n",
            "Epoch 105/999\n",
            "3/3 [==============================] - 0s 36ms/step - loss: 0.6111 - accuracy: 0.8286\n",
            "Epoch 106/999\n",
            "3/3 [==============================] - 0s 36ms/step - loss: 0.7376 - accuracy: 0.7143\n",
            "Epoch 107/999\n",
            "3/3 [==============================] - 0s 36ms/step - loss: 0.6224 - accuracy: 0.8000\n",
            "Epoch 108/999\n",
            "3/3 [==============================] - 0s 39ms/step - loss: 0.7439 - accuracy: 0.7286\n",
            "Epoch 109/999\n",
            "3/3 [==============================] - 0s 40ms/step - loss: 0.7264 - accuracy: 0.7571\n",
            "Epoch 110/999\n",
            "3/3 [==============================] - 0s 41ms/step - loss: 0.5079 - accuracy: 0.8000\n",
            "Epoch 111/999\n",
            "3/3 [==============================] - 0s 38ms/step - loss: 0.6586 - accuracy: 0.7857\n",
            "Epoch 112/999\n",
            "3/3 [==============================] - 0s 42ms/step - loss: 0.8027 - accuracy: 0.7000\n",
            "Epoch 113/999\n",
            "3/3 [==============================] - 0s 39ms/step - loss: 0.4633 - accuracy: 0.8429\n",
            "Epoch 114/999\n",
            "3/3 [==============================] - 0s 36ms/step - loss: 0.3642 - accuracy: 0.8714\n",
            "Epoch 115/999\n",
            "3/3 [==============================] - 0s 39ms/step - loss: 0.5419 - accuracy: 0.8000\n",
            "Epoch 116/999\n",
            "3/3 [==============================] - 0s 41ms/step - loss: 0.5407 - accuracy: 0.8429\n",
            "Epoch 117/999\n",
            "3/3 [==============================] - 0s 36ms/step - loss: 0.4656 - accuracy: 0.8000\n",
            "Epoch 118/999\n",
            "3/3 [==============================] - 0s 38ms/step - loss: 0.5310 - accuracy: 0.8143\n",
            "Epoch 119/999\n",
            "3/3 [==============================] - 0s 36ms/step - loss: 0.8008 - accuracy: 0.7000\n",
            "Epoch 120/999\n",
            "3/3 [==============================] - 0s 38ms/step - loss: 0.7181 - accuracy: 0.7857\n",
            "Epoch 121/999\n",
            "3/3 [==============================] - 0s 35ms/step - loss: 0.6939 - accuracy: 0.7857\n",
            "Epoch 122/999\n",
            "3/3 [==============================] - 0s 38ms/step - loss: 0.6685 - accuracy: 0.7714\n",
            "Epoch 123/999\n",
            "3/3 [==============================] - 0s 36ms/step - loss: 0.7485 - accuracy: 0.7714\n",
            "Epoch 124/999\n",
            "3/3 [==============================] - 0s 39ms/step - loss: 0.7879 - accuracy: 0.7429\n",
            "Epoch 125/999\n",
            "3/3 [==============================] - 0s 47ms/step - loss: 0.8322 - accuracy: 0.7429\n",
            "Epoch 126/999\n",
            "3/3 [==============================] - 0s 37ms/step - loss: 0.6136 - accuracy: 0.8000\n",
            "Epoch 127/999\n",
            "3/3 [==============================] - 0s 36ms/step - loss: 0.7885 - accuracy: 0.7429\n",
            "Epoch 128/999\n",
            "3/3 [==============================] - 0s 37ms/step - loss: 0.5459 - accuracy: 0.8286\n",
            "Epoch 129/999\n",
            "3/3 [==============================] - 0s 36ms/step - loss: 0.6820 - accuracy: 0.7143\n",
            "Epoch 130/999\n",
            "3/3 [==============================] - 0s 42ms/step - loss: 0.8003 - accuracy: 0.7714\n",
            "Epoch 131/999\n",
            "3/3 [==============================] - 0s 37ms/step - loss: 0.6650 - accuracy: 0.8571\n",
            "Epoch 132/999\n",
            "3/3 [==============================] - 0s 36ms/step - loss: 0.6139 - accuracy: 0.8143\n",
            "Epoch 133/999\n",
            "3/3 [==============================] - 0s 36ms/step - loss: 0.7357 - accuracy: 0.7714\n",
            "Epoch 134/999\n",
            "3/3 [==============================] - 0s 36ms/step - loss: 0.5993 - accuracy: 0.8429\n",
            "Epoch 135/999\n",
            "3/3 [==============================] - 0s 39ms/step - loss: 0.5503 - accuracy: 0.8571\n",
            "Epoch 136/999\n",
            "3/3 [==============================] - 0s 39ms/step - loss: 0.4087 - accuracy: 0.8714\n",
            "Epoch 137/999\n",
            "3/3 [==============================] - 0s 35ms/step - loss: 0.5370 - accuracy: 0.7857\n",
            "Epoch 138/999\n",
            "3/3 [==============================] - 0s 38ms/step - loss: 0.5815 - accuracy: 0.8143\n",
            "Epoch 139/999\n",
            "3/3 [==============================] - 0s 45ms/step - loss: 0.6462 - accuracy: 0.8143\n",
            "Epoch 140/999\n",
            "3/3 [==============================] - 0s 40ms/step - loss: 0.6408 - accuracy: 0.8143\n",
            "Epoch 141/999\n",
            "3/3 [==============================] - 0s 39ms/step - loss: 0.7379 - accuracy: 0.8000\n",
            "Epoch 142/999\n",
            "3/3 [==============================] - 0s 39ms/step - loss: 0.3982 - accuracy: 0.9000\n",
            "Epoch 143/999\n",
            "3/3 [==============================] - 0s 35ms/step - loss: 0.6352 - accuracy: 0.8286\n",
            "Epoch 144/999\n",
            "3/3 [==============================] - 0s 36ms/step - loss: 0.6428 - accuracy: 0.7714\n",
            "Epoch 145/999\n",
            "3/3 [==============================] - 0s 37ms/step - loss: 0.4793 - accuracy: 0.7857\n",
            "Epoch 146/999\n",
            "3/3 [==============================] - 0s 42ms/step - loss: 0.3849 - accuracy: 0.9143\n",
            "Epoch 147/999\n",
            "3/3 [==============================] - 0s 37ms/step - loss: 0.4209 - accuracy: 0.9000\n",
            "Epoch 148/999\n",
            "3/3 [==============================] - 0s 40ms/step - loss: 0.5153 - accuracy: 0.8286\n",
            "Epoch 149/999\n",
            "3/3 [==============================] - 0s 37ms/step - loss: 0.4945 - accuracy: 0.8714\n",
            "Epoch 150/999\n",
            "3/3 [==============================] - 0s 35ms/step - loss: 0.3773 - accuracy: 0.8571\n",
            "Epoch 151/999\n",
            "3/3 [==============================] - 0s 46ms/step - loss: 0.4127 - accuracy: 0.9143\n",
            "Epoch 152/999\n",
            "3/3 [==============================] - 0s 38ms/step - loss: 0.7184 - accuracy: 0.7571\n",
            "Epoch 153/999\n",
            "3/3 [==============================] - 0s 36ms/step - loss: 0.5612 - accuracy: 0.8000\n",
            "Epoch 154/999\n",
            "3/3 [==============================] - 0s 37ms/step - loss: 0.3137 - accuracy: 0.9000\n",
            "Epoch 155/999\n",
            "3/3 [==============================] - 0s 36ms/step - loss: 0.6774 - accuracy: 0.7857\n",
            "Epoch 156/999\n",
            "3/3 [==============================] - 0s 37ms/step - loss: 0.3451 - accuracy: 0.8286\n",
            "Epoch 157/999\n",
            "3/3 [==============================] - 0s 44ms/step - loss: 0.4794 - accuracy: 0.8429\n",
            "Epoch 158/999\n",
            "3/3 [==============================] - 0s 34ms/step - loss: 0.6090 - accuracy: 0.8143\n",
            "Epoch 159/999\n",
            "3/3 [==============================] - 0s 38ms/step - loss: 0.4400 - accuracy: 0.8143\n",
            "Epoch 160/999\n",
            "3/3 [==============================] - 0s 36ms/step - loss: 0.6320 - accuracy: 0.7857\n",
            "Epoch 161/999\n",
            "3/3 [==============================] - 0s 39ms/step - loss: 0.4092 - accuracy: 0.8571\n",
            "Epoch 162/999\n",
            "3/3 [==============================] - 0s 37ms/step - loss: 0.5860 - accuracy: 0.8143\n",
            "Epoch 163/999\n",
            "3/3 [==============================] - 0s 43ms/step - loss: 0.4614 - accuracy: 0.7857\n",
            "Epoch 164/999\n",
            "3/3 [==============================] - 0s 38ms/step - loss: 0.5089 - accuracy: 0.8857\n",
            "Epoch 165/999\n",
            "3/3 [==============================] - 0s 36ms/step - loss: 0.5653 - accuracy: 0.8286\n",
            "Epoch 166/999\n",
            "3/3 [==============================] - 0s 38ms/step - loss: 0.5306 - accuracy: 0.8000\n",
            "Epoch 167/999\n",
            "3/3 [==============================] - 0s 39ms/step - loss: 0.5007 - accuracy: 0.8143\n",
            "Epoch 168/999\n",
            "3/3 [==============================] - 0s 39ms/step - loss: 0.5672 - accuracy: 0.8286\n",
            "Epoch 169/999\n",
            "3/3 [==============================] - 0s 36ms/step - loss: 0.6220 - accuracy: 0.7571\n",
            "Epoch 170/999\n",
            "3/3 [==============================] - 0s 49ms/step - loss: 0.5267 - accuracy: 0.7857\n",
            "Epoch 171/999\n",
            "3/3 [==============================] - 0s 36ms/step - loss: 0.4039 - accuracy: 0.8286\n",
            "Epoch 172/999\n",
            "3/3 [==============================] - 0s 35ms/step - loss: 0.4287 - accuracy: 0.8143\n",
            "Epoch 173/999\n",
            "3/3 [==============================] - 0s 37ms/step - loss: 0.5191 - accuracy: 0.8143\n",
            "Epoch 174/999\n",
            "3/3 [==============================] - 0s 34ms/step - loss: 0.4163 - accuracy: 0.8857\n",
            "Epoch 175/999\n",
            "3/3 [==============================] - 0s 37ms/step - loss: 0.6381 - accuracy: 0.7429\n",
            "Epoch 176/999\n",
            "3/3 [==============================] - 0s 38ms/step - loss: 0.5777 - accuracy: 0.8429\n",
            "Epoch 177/999\n",
            "3/3 [==============================] - 0s 45ms/step - loss: 0.5462 - accuracy: 0.8143\n",
            "Epoch 178/999\n",
            "3/3 [==============================] - 0s 36ms/step - loss: 0.4687 - accuracy: 0.8000\n",
            "Epoch 179/999\n",
            "3/3 [==============================] - 0s 38ms/step - loss: 0.5574 - accuracy: 0.7714\n",
            "Epoch 180/999\n",
            "3/3 [==============================] - 0s 37ms/step - loss: 0.6741 - accuracy: 0.7143\n",
            "Epoch 181/999\n",
            "3/3 [==============================] - 0s 38ms/step - loss: 0.4594 - accuracy: 0.8429\n",
            "Epoch 182/999\n",
            "3/3 [==============================] - 0s 42ms/step - loss: 0.5110 - accuracy: 0.8286\n",
            "Epoch 183/999\n",
            "3/3 [==============================] - 0s 36ms/step - loss: 0.4801 - accuracy: 0.8286\n",
            "Epoch 184/999\n",
            "3/3 [==============================] - 0s 38ms/step - loss: 0.5347 - accuracy: 0.7857\n",
            "Epoch 185/999\n",
            "3/3 [==============================] - 0s 38ms/step - loss: 0.4624 - accuracy: 0.8429\n",
            "Epoch 186/999\n",
            "3/3 [==============================] - 0s 34ms/step - loss: 0.4445 - accuracy: 0.7857\n",
            "Epoch 187/999\n",
            "3/3 [==============================] - 0s 39ms/step - loss: 0.5852 - accuracy: 0.7857\n",
            "Epoch 188/999\n",
            "3/3 [==============================] - 0s 48ms/step - loss: 0.2677 - accuracy: 0.9000\n",
            "Epoch 189/999\n",
            "3/3 [==============================] - 0s 34ms/step - loss: 0.6229 - accuracy: 0.7857\n",
            "Epoch 190/999\n",
            "3/3 [==============================] - 0s 36ms/step - loss: 0.6259 - accuracy: 0.8286\n",
            "Epoch 191/999\n",
            "3/3 [==============================] - 0s 34ms/step - loss: 0.4765 - accuracy: 0.8143\n",
            "Epoch 192/999\n",
            "3/3 [==============================] - 0s 37ms/step - loss: 0.4753 - accuracy: 0.8429\n",
            "Epoch 193/999\n",
            "3/3 [==============================] - 0s 35ms/step - loss: 0.3989 - accuracy: 0.8429\n",
            "Epoch 194/999\n",
            "3/3 [==============================] - 0s 38ms/step - loss: 0.4379 - accuracy: 0.8571\n",
            "Epoch 195/999\n",
            "3/3 [==============================] - 0s 41ms/step - loss: 0.3614 - accuracy: 0.9143\n",
            "Epoch 196/999\n",
            "3/3 [==============================] - 0s 39ms/step - loss: 0.5406 - accuracy: 0.8143\n",
            "Epoch 197/999\n",
            "3/3 [==============================] - 0s 37ms/step - loss: 0.2711 - accuracy: 0.9429\n",
            "Epoch 198/999\n",
            "3/3 [==============================] - 0s 37ms/step - loss: 0.4014 - accuracy: 0.8714\n",
            "Epoch 199/999\n",
            "3/3 [==============================] - 0s 37ms/step - loss: 0.3365 - accuracy: 0.8714\n",
            "Epoch 200/999\n",
            "3/3 [==============================] - 0s 36ms/step - loss: 0.3990 - accuracy: 0.8714\n",
            "Epoch 201/999\n",
            "3/3 [==============================] - 0s 37ms/step - loss: 0.8664 - accuracy: 0.7429\n",
            "Epoch 202/999\n",
            "3/3 [==============================] - ETA: 0s - loss: 0.4307 - accuracy: 0.8429\n",
            "Training goals met. Training has been stopped!!\n",
            "3/3 [==============================] - 0s 37ms/step - loss: 0.4307 - accuracy: 0.8429\n"
          ]
        },
        {
          "output_type": "execute_result",
          "data": {
            "text/plain": [
              "<keras.callbacks.History at 0x7f2a3ccc2dd0>"
            ]
          },
          "metadata": {},
          "execution_count": 17
        }
      ]
    },
    {
      "cell_type": "markdown",
      "source": [
        "<h1>Testing the result</h1>"
      ],
      "metadata": {
        "id": "1RAMDJ9IwIfM"
      }
    },
    {
      "cell_type": "code",
      "source": [
        "loss, accuracy = model.evaluate(testd, testl, verbose=0)\n",
        "print(\"Model loss (test data): {:.3f} \\t Model accuracy (test data): {:.2f}%\".format(loss, accuracy*100))"
      ],
      "metadata": {
        "colab": {
          "base_uri": "https://localhost:8080/"
        },
        "id": "UFvsEVQP8KsI",
        "outputId": "6d8bdfa2-13ee-4f08-d47e-8348dcb67562"
      },
      "execution_count": 18,
      "outputs": [
        {
          "output_type": "stream",
          "name": "stdout",
          "text": [
            "Model loss (test data): 0.756 \t Model accuracy (test data): 71.43%\n"
          ]
        }
      ]
    },
    {
      "cell_type": "markdown",
      "source": [
        "<h1>Save augmented sets</h1>"
      ],
      "metadata": {
        "id": "WPk3sUdcasA1"
      }
    },
    {
      "cell_type": "code",
      "source": [
        "import os\n",
        "\n",
        "def save_aug_sets(dataset, path, offset):\n",
        "  os.makedirs(path, exist_ok=True) # create dir if not exists\n",
        "\n",
        "  for key in dataset:\n",
        "    sampleid = offset\n",
        "\n",
        "    for set in dataset[key]:\n",
        "      if set.aug is not True:\n",
        "        continue\n",
        "\n",
        "      filepath = path + \"/#\" + str(set.id+1).zfill(2) + \"_\" + str(sampleid)  + \".txt\"\n",
        "      sampleid += 1\n",
        "      \n",
        "      with open(filepath, 'w') as f:\n",
        "\n",
        "        for k in set.keystrokes:\n",
        "          f.write(\"\\t{}, \\t{}, \\t{}\".format(k.key, k.down, k.up))\n",
        "          f.write('\\n')"
      ],
      "metadata": {
        "id": "gmNErS0-IM_7"
      },
      "execution_count": 22,
      "outputs": []
    },
    {
      "cell_type": "code",
      "source": [
        "save_aug_sets(dataset, \"drive/MyDrive/Keystrokes/Augmented\", 3)"
      ],
      "metadata": {
        "id": "9soQFCsVKiHE"
      },
      "execution_count": 23,
      "outputs": []
    }
  ]
}
